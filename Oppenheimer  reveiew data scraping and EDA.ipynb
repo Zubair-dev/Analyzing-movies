{
 "cells": [
  {
   "cell_type": "markdown",
   "metadata": {},
   "source": [
    "<h2>EXTRACTING OPPENHEIMER's REVIEW FROM IMDB</h2>\n"
   ]
  },
  {
   "cell_type": "markdown",
   "metadata": {},
   "source": [
    "Importing neccesary libraries"
   ]
  },
  {
   "cell_type": "code",
   "execution_count": 1,
   "metadata": {},
   "outputs": [],
   "source": [
    "import time\n",
    "import pandas as pd\n",
    "from bs4 import BeautifulSoup\n",
    "from selenium import webdriver\n",
    "from selenium.webdriver.common.by import By"
   ]
  },
  {
   "cell_type": "markdown",
   "metadata": {},
   "source": [
    "In this section, I used web scraping techniques to extract reviews and ratings from the IMDb page of the movie \"OPPENHEIMER.\""
   ]
  },
  {
   "cell_type": "code",
   "execution_count": 11,
   "metadata": {},
   "outputs": [
    {
     "name": "stdout",
     "output_type": "stream",
     "text": [
      "Clicking 'Load More' button\n",
      "Clicking 'Load More' button\n",
      "Clicking 'Load More' button\n",
      "Clicking 'Load More' button\n",
      "Clicking 'Load More' button\n",
      "Clicking 'Load More' button\n",
      "Clicking 'Load More' button\n",
      "Clicking 'Load More' button\n",
      "Clicking 'Load More' button\n",
      "Clicking 'Load More' button\n",
      "Clicking 'Load More' button\n",
      "Clicking 'Load More' button\n",
      "Clicking 'Load More' button\n",
      "Clicking 'Load More' button\n",
      "Clicking 'Load More' button\n",
      "Clicking 'Load More' button\n",
      "Clicking 'Load More' button\n",
      "Clicking 'Load More' button\n",
      "Clicking 'Load More' button\n",
      "Clicking 'Load More' button\n",
      "Clicking 'Load More' button\n",
      "Clicking 'Load More' button\n",
      "Clicking 'Load More' button\n",
      "Clicking 'Load More' button\n",
      "Clicking 'Load More' button\n",
      "Clicking 'Load More' button\n",
      "Clicking 'Load More' button\n",
      "Clicking 'Load More' button\n",
      "Clicking 'Load More' button\n",
      "Clicking 'Load More' button\n",
      "Clicking 'Load More' button\n",
      "Clicking 'Load More' button\n",
      "Clicking 'Load More' button\n",
      "Clicking 'Load More' button\n",
      "Clicking 'Load More' button\n",
      "Clicking 'Load More' button\n",
      "Clicking 'Load More' button\n",
      "Clicking 'Load More' button\n",
      "Clicking 'Load More' button\n",
      "Clicking 'Load More' button\n",
      "Clicking 'Load More' button\n",
      "Clicking 'Load More' button\n",
      "Clicking 'Load More' button\n",
      "Clicking 'Load More' button\n",
      "Clicking 'Load More' button\n",
      "Clicking 'Load More' button\n",
      "Clicking 'Load More' button\n",
      "Clicking 'Load More' button\n",
      "Clicking 'Load More' button\n",
      "Clicking 'Load More' button\n",
      "Clicking 'Load More' button\n",
      "Clicking 'Load More' button\n",
      "Clicking 'Load More' button\n",
      "Clicking 'Load More' button\n",
      "Clicking 'Load More' button\n",
      "Clicking 'Load More' button\n",
      "Clicking 'Load More' button\n",
      "Clicking 'Load More' button\n",
      "Clicking 'Load More' button\n",
      "Clicking 'Load More' button\n",
      "Clicking 'Load More' button\n",
      "Clicking 'Load More' button\n",
      "Clicking 'Load More' button\n",
      "Clicking 'Load More' button\n",
      "Clicking 'Load More' button\n",
      "Clicking 'Load More' button\n",
      "Clicking 'Load More' button\n",
      "Clicking 'Load More' button\n",
      "Clicking 'Load More' button\n",
      "Clicking 'Load More' button\n",
      "Clicking 'Load More' button\n",
      "Clicking 'Load More' button\n",
      "Clicking 'Load More' button\n",
      "Clicking 'Load More' button\n",
      "Clicking 'Load More' button\n",
      "Clicking 'Load More' button\n",
      "Clicking 'Load More' button\n",
      "Clicking 'Load More' button\n",
      "Clicking 'Load More' button\n",
      "Clicking 'Load More' button\n",
      "Clicking 'Load More' button\n",
      "Clicking 'Load More' button\n",
      "Clicking 'Load More' button\n",
      "Clicking 'Load More' button\n",
      "Clicking 'Load More' button\n",
      "Clicking 'Load More' button\n",
      "Clicking 'Load More' button\n",
      "Clicking 'Load More' button\n",
      "Clicking 'Load More' button\n",
      "Clicking 'Load More' button\n",
      "Clicking 'Load More' button\n",
      "Clicking 'Load More' button\n",
      "Clicking 'Load More' button\n",
      "Clicking 'Load More' button\n",
      "Clicking 'Load More' button\n",
      "Clicking 'Load More' button\n",
      "Clicking 'Load More' button\n",
      "Clicking 'Load More' button\n",
      "Clicking 'Load More' button\n",
      "Clicking 'Load More' button\n",
      "Clicking 'Load More' button\n",
      "Clicking 'Load More' button\n",
      "Clicking 'Load More' button\n",
      "Clicking 'Load More' button\n",
      "Clicking 'Load More' button\n",
      "Clicking 'Load More' button\n",
      "Clicking 'Load More' button\n",
      "Clicking 'Load More' button\n",
      "Reached end of comments or encountered an error\n"
     ]
    }
   ],
   "source": [
    "# URL of the IMDb page with reviews\n",
    "url = 'https://www.imdb.com/title/tt15398776/reviews?ref_=tt_urv'\n",
    "\n",
    "# Set up the Selenium WebDriver\n",
    "driver = webdriver.Chrome()  \n",
    "\n",
    "# Send a GET request to fetch the webpage content\n",
    "driver.get(url)\n",
    "time.sleep(2)\n",
    "\n",
    "# Click the \"Load More\" button until it's not present\n",
    "while True:\n",
    "    try:\n",
    "        load_more_button = driver.find_element(By.ID, 'load-more-trigger')\n",
    "        print(\"Clicking 'Load More' button\")\n",
    "        load_more_button.click()\n",
    "        time.sleep(5)  # Increase the delay to ensure proper loading\n",
    "    except:\n",
    "        print(\"Reached end of comments or encountered an error\")\n",
    "        break\n",
    "\n",
    "# Get the page source after loading all comments\n",
    "page_content = driver.page_source\n",
    "\n",
    "# Initialize lists to store comments, ratings, and dates\n",
    "comments_list = []\n",
    "ratings_list = []\n",
    "dates_list = []\n",
    "\n",
    "# Function to extract comments, ratings, and dates from a page\n",
    "def extract_data(page_content):\n",
    "    soup = BeautifulSoup(page_content, 'html.parser')\n",
    "    comment_elements = soup.find_all('div', class_='text show-more__control')\n",
    "    rating_elements = soup.find_all('span', class_='rating-other-user-rating')\n",
    "    date_elements = soup.find_all('span', class_='review-date')\n",
    "    \n",
    "    comments = [comment.get_text(strip=True) for comment in comment_elements]\n",
    "    ratings = [rating.get_text(strip=True) for rating in rating_elements]\n",
    "    dates = [date.get_text(strip=True) for date in date_elements]\n",
    "    return comments, ratings, dates\n",
    "\n",
    "# Extract comments, ratings, and dates from the loaded page\n",
    "comments, ratings, dates = extract_data(page_content)\n",
    "comments_list.extend(comments)\n",
    "ratings_list.extend(ratings)\n",
    "dates_list.extend(dates)\n",
    "\n",
    "# Close the browser window\n",
    "driver.quit()\n"
   ]
  },
  {
   "cell_type": "markdown",
   "metadata": {},
   "source": [
    "<h2>Data Processing and Cleaning</h2>\n",
    "\n",
    "After extracting the data, the next steps involve processing, cleaning, and structuring it into a DataFrame."
   ]
  },
  {
   "cell_type": "code",
   "execution_count": 12,
   "metadata": {},
   "outputs": [
    {
     "data": {
      "text/html": [
       "<div>\n",
       "<style scoped>\n",
       "    .dataframe tbody tr th:only-of-type {\n",
       "        vertical-align: middle;\n",
       "    }\n",
       "\n",
       "    .dataframe tbody tr th {\n",
       "        vertical-align: top;\n",
       "    }\n",
       "\n",
       "    .dataframe thead th {\n",
       "        text-align: right;\n",
       "    }\n",
       "</style>\n",
       "<table border=\"1\" class=\"dataframe\">\n",
       "  <thead>\n",
       "    <tr style=\"text-align: right;\">\n",
       "      <th></th>\n",
       "      <th>Date</th>\n",
       "      <th>Comment</th>\n",
       "      <th>Rating</th>\n",
       "    </tr>\n",
       "  </thead>\n",
       "  <tbody>\n",
       "    <tr>\n",
       "      <th>count</th>\n",
       "      <td>2618</td>\n",
       "      <td>1548</td>\n",
       "      <td>2618</td>\n",
       "    </tr>\n",
       "    <tr>\n",
       "      <th>unique</th>\n",
       "      <td>10</td>\n",
       "      <td>1546</td>\n",
       "      <td>10</td>\n",
       "    </tr>\n",
       "    <tr>\n",
       "      <th>top</th>\n",
       "      <td>10/10</td>\n",
       "      <td>\"Oppenheimer\" is a biographical thriller film ...</td>\n",
       "      <td>10/10</td>\n",
       "    </tr>\n",
       "    <tr>\n",
       "      <th>freq</th>\n",
       "      <td>1060</td>\n",
       "      <td>2</td>\n",
       "      <td>1060</td>\n",
       "    </tr>\n",
       "  </tbody>\n",
       "</table>\n",
       "</div>"
      ],
      "text/plain": [
       "         Date                                            Comment Rating\n",
       "count    2618                                               1548   2618\n",
       "unique     10                                               1546     10\n",
       "top     10/10  \"Oppenheimer\" is a biographical thriller film ...  10/10\n",
       "freq     1060                                                  2   1060"
      ]
     },
     "execution_count": 12,
     "metadata": {},
     "output_type": "execute_result"
    }
   ],
   "source": [
    "# Creating a dataframe\n",
    "comments_list = pd.Series(comments, name='comments')\n",
    "ratings_list = pd.Series(ratings, name='ratings')\n",
    "dates_list = pd.Series(ratings, name='dates')\n",
    "# Create a DataFrame from the extracted data\n",
    "df = pd.DataFrame({'Date': dates_list, 'Comment': comments_list, 'Rating': ratings_list})\n",
    "df.describe()\n"
   ]
  },
  {
   "cell_type": "markdown",
   "metadata": {},
   "source": [
    "Exporting the data into a CSV file"
   ]
  },
  {
   "cell_type": "code",
   "execution_count": 13,
   "metadata": {},
   "outputs": [],
   "source": [
    "# Save the DataFrame to a CSV file\n",
    "df.to_csv('oppenheimer_review_with_dates.csv', index=False)"
   ]
  },
  {
   "cell_type": "markdown",
   "metadata": {},
   "source": [
    "<h2>Analysis Of OPPENHEIMER's Review "
   ]
  },
  {
   "cell_type": "markdown",
   "metadata": {},
   "source": [
    "Here, I performed analysis on the extracted data and visualized some key aspects of the reviews."
   ]
  },
  {
   "cell_type": "code",
   "execution_count": 14,
   "metadata": {},
   "outputs": [],
   "source": [
    "#Importing neccesary libraries\n",
    "import matplotlib.pyplot as plt"
   ]
  },
  {
   "cell_type": "code",
   "execution_count": 15,
   "metadata": {},
   "outputs": [
    {
     "data": {
      "image/png": "[encoded data removed]",
      "text/plain": [
       "<Figure size 800x600 with 1 Axes>"
      ]
     },
     "metadata": {},
     "output_type": "display_data"
    }
   ],
   "source": [
    "# Analysing rating\n",
    "rating_counts = df['Rating'].value_counts()\n",
    "plt.figure(figsize=(8, 6))\n",
    "plt.bar(rating_counts.index, rating_counts.values)\n",
    "plt.title('Distribution of Ratings')\n",
    "plt.xlabel('Rating')\n",
    "plt.ylabel('Count')\n",
    "plt.show()"
   ]
  },
  {
   "cell_type": "code",
   "execution_count": 16,
   "metadata": {},
   "outputs": [
    {
     "data": {
      "image/png": "[encoded data removed]",
      "text/plain": [
       "<Figure size 500x600 with 1 Axes>"
      ]
     },
     "metadata": {},
     "output_type": "display_data"
    }
   ],
   "source": [
    "# Analyzing Review lengths\n",
    "df['comment_length'] = df.dropna()['Comment'].apply(len)\n",
    "plt.figure(figsize=(5, 6))\n",
    "plt.hist(df['comment_length'], bins=20, edgecolor='black')\n",
    "plt.title('Distribution of Review Lengths')\n",
    "plt.xlabel('Review Length')\n",
    "plt.ylabel('Frequency')\n",
    "plt.show()"
   ]
  }
 ],
 "metadata": {
  "kernelspec": {
   "display_name": "Python 3",
   "language": "python",
   "name": "python3"
  },
  "language_info": {
   "codemirror_mode": {
    "name": "ipython",
    "version": 3
   },
   "file_extension": ".py",
   "mimetype": "text/x-python",
   "name": "python",
   "nbconvert_exporter": "python",
   "pygments_lexer": "ipython3",
   "version": "3.11.3"
  },
  "orig_nbformat": 4
 },
 "nbformat": 4,
 "nbformat_minor": 2
}
